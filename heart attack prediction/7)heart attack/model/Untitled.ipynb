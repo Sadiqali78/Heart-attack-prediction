{
 "cells": [
  {
   "cell_type": "code",
   "execution_count": 1,
   "id": "04e5ba96-36d5-4eb1-adbd-e36c1211b222",
   "metadata": {},
   "outputs": [
    {
     "name": "stdout",
     "output_type": "stream",
     "text": [
      "✅ Model loaded successfully!\n",
      "\n",
      "🩺 Heart Disease Prediction System\n",
      "\n"
     ]
    },
    {
     "name": "stdin",
     "output_type": "stream",
     "text": [
      "🔹 Age:  22\n",
      "🔹 Chest Pain Type (0-3):  2\n",
      "🔹 Maximum Heart Rate Achieved:  125\n",
      "🔹 Exercise Induced Angina (0 = No, 1 = Yes):  1\n",
      "🔹 ST Depression Induced by Exercise:  2\n",
      "🔹 Number of Major Vessels (0-3):  3\n"
     ]
    },
    {
     "name": "stdout",
     "output_type": "stream",
     "text": [
      "\n",
      "✅ Prediction: 🟢 Low Risk of Heart Disease 🙂\n"
     ]
    }
   ],
   "source": [
    "import joblib\n",
    "import numpy as np\n",
    "\n",
    "# Load the trained model\n",
    "try:\n",
    "    loaded_model = joblib.load(\"random_forest_heart_model.sav\")\n",
    "    print(\"✅ Model loaded successfully!\\n\")\n",
    "except FileNotFoundError:\n",
    "    print(\"❌ Error: Model file not found.\")\n",
    "    exit()\n",
    "\n",
    "# Function to predict heart disease based on user input\n",
    "def predict_heart_disease():\n",
    "    print(\"🩺 Heart Disease Prediction System\\n\")\n",
    "    \n",
    "    try:\n",
    "        # Get user inputs\n",
    "        age = int(input(\"🔹 Age: \"))\n",
    "        cp = int(input(\"🔹 Chest Pain Type (0-3): \"))\n",
    "        thalach = int(input(\"🔹 Maximum Heart Rate Achieved: \"))\n",
    "        exang = int(input(\"🔹 Exercise Induced Angina (0 = No, 1 = Yes): \"))\n",
    "        oldpeak = float(input(\"🔹 ST Depression Induced by Exercise: \"))\n",
    "        ca = int(input(\"🔹 Number of Major Vessels (0-3): \"))\n",
    "\n",
    "        # Validate input ranges\n",
    "        if cp not in [0, 1, 2, 3] or exang not in [0, 1] or ca not in [0, 1, 2, 3]:\n",
    "            print(\"\\n❌ Error: Invalid input values. Please enter correct values as instructed.\")\n",
    "            return\n",
    "\n",
    "        # Convert input to NumPy array\n",
    "        user_input = np.array([[age, cp, thalach, exang, oldpeak, ca]])\n",
    "\n",
    "        # Make prediction\n",
    "        prediction = loaded_model.predict(user_input)\n",
    "\n",
    "        # Display the result\n",
    "        result = \"🔴 High Risk of Heart Disease 😟\" if prediction[0] == 1 else \"🟢 Low Risk of Heart Disease 🙂\"\n",
    "        print(f\"\\n✅ Prediction: {result}\")\n",
    "\n",
    "    except ValueError:\n",
    "        print(\"\\n❌ Error: Please enter numeric values only.\")\n",
    "\n",
    "# Run the prediction function\n",
    "if __name__ == \"__main__\":\n",
    "    predict_heart_disease()\n"
   ]
  }
 ],
 "metadata": {
  "kernelspec": {
   "display_name": "Python 3 (ipykernel)",
   "language": "python",
   "name": "python3"
  },
  "language_info": {
   "codemirror_mode": {
    "name": "ipython",
    "version": 3
   },
   "file_extension": ".py",
   "mimetype": "text/x-python",
   "name": "python",
   "nbconvert_exporter": "python",
   "pygments_lexer": "ipython3",
   "version": "3.11.7"
  }
 },
 "nbformat": 4,
 "nbformat_minor": 5
}
